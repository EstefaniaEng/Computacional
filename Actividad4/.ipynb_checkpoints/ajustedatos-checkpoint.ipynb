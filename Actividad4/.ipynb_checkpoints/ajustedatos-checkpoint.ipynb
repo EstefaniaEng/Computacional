{
 "metadata": {
  "name": "",
  "signature": "sha256:5811eb14771a849ca7814ad94b906d7c105817d80d6d098758bc658d303d6795"
 },
 "nbformat": 3,
 "nbformat_minor": 0,
 "worksheets": []
}